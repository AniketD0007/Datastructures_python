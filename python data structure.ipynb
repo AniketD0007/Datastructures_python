{
 "cells": [
  {
   "cell_type": "code",
   "execution_count": 1,
   "id": "7f3cede6-c0e5-46c1-961c-d21f7286cb82",
   "metadata": {},
   "outputs": [
    {
     "data": {
      "text/plain": [
       "'How a'"
      ]
     },
     "execution_count": 1,
     "metadata": {},
     "output_type": "execute_result"
    }
   ],
   "source": [
    "                                 ## Data Structures in python [Assignment]\n",
    "\n",
    "#Q1. Discuss string slicing and provide examples.\n",
    "\n",
    "# >>> String slicing is generally used to extract very specific(desired) part of a string by cutting and extracting that specific\n",
    "# part of the string and ignoring the rest.We can use indexing to execute string splicing.For eg:\n",
    "sr1= \"How are you doing?\"\n",
    "sr1[0:5]                   #here '0' does the job of initialising and '5' does the job of terminating.But the count starts from\n",
    "                           # 0 and ends at 4."
   ]
  },
  {
   "cell_type": "code",
   "execution_count": 2,
   "id": "27a3a342-15a2-4c28-ae0d-246b6681f6d5",
   "metadata": {},
   "outputs": [
    {
     "data": {
      "text/plain": [
       "'you'"
      ]
     },
     "execution_count": 2,
     "metadata": {},
     "output_type": "execute_result"
    }
   ],
   "source": [
    "#>> Let's say we want to extract the word 'you' from the string...we will...\n",
    "sr1[8:11]"
   ]
  },
  {
   "cell_type": "code",
   "execution_count": 4,
   "id": "59f7b1fe-202e-4efa-9b9f-1fae71a789f3",
   "metadata": {},
   "outputs": [
    {
     "data": {
      "text/plain": [
       "'How a'"
      ]
     },
     "execution_count": 4,
     "metadata": {},
     "output_type": "execute_result"
    }
   ],
   "source": [
    "# >> catch:- We can also leave the beginning slot empty like...[ : 5] and get the slicing done from the beginning point till 4th\n",
    "# position.Similarly if we leave the later slot empty,that would automatically mean the end of the string [6:] or [:].\n",
    "sr1[:5]"
   ]
  },
  {
   "cell_type": "code",
   "execution_count": 5,
   "id": "e46e6d38-902c-46d3-96b0-e050d688c190",
   "metadata": {},
   "outputs": [
    {
     "data": {
      "text/plain": [
       "'Hwaey'"
      ]
     },
     "execution_count": 5,
     "metadata": {},
     "output_type": "execute_result"
    }
   ],
   "source": [
    "# >>Steps in slicing:- steps in slicing indicate the jumps while running the count in a string.It is filled at the end of indexing\n",
    "# for eg:\n",
    "sr1[0:9:2]    # here the slicing is done and the letters picked are placed two steps away from each other in the original string"
   ]
  },
  {
   "cell_type": "code",
   "execution_count": 7,
   "id": "f884c6d6-a7dc-4a80-8548-d6b8d71b7d6a",
   "metadata": {},
   "outputs": [
    {
     "data": {
      "text/plain": [
       "'?gniod uoy era woH'"
      ]
     },
     "execution_count": 7,
     "metadata": {},
     "output_type": "execute_result"
    }
   ],
   "source": [
    "# >> Reversing steps :- we can count reversely in a string while slicing by using negative indexing.\n",
    "sr1[::-1]"
   ]
  },
  {
   "cell_type": "code",
   "execution_count": 8,
   "id": "33d501ba-4f18-485f-b09b-ae0bc3aff76e",
   "metadata": {},
   "outputs": [],
   "source": [
    "\n",
    "#Q2.  Explain the key features of lists in python.\n",
    "# >>> A list is <<Heterogenous>> i.e. it can contain values belonging to more than one datatypes.for eg:\n",
    "my_bag=[\"Aniket\",3 , 4.5, 3+5j]"
   ]
  },
  {
   "cell_type": "code",
   "execution_count": 9,
   "id": "44d5c9d1-319d-4ef9-8073-0526697aad34",
   "metadata": {},
   "outputs": [
    {
     "data": {
      "text/plain": [
       "['Aniket', 3, 4.5, (3+5j)]"
      ]
     },
     "execution_count": 9,
     "metadata": {},
     "output_type": "execute_result"
    }
   ],
   "source": [
    "my_bag"
   ]
  },
  {
   "cell_type": "code",
   "execution_count": 10,
   "id": "3526730b-c91c-48b9-9744-d6aebf255070",
   "metadata": {},
   "outputs": [],
   "source": [
    "#>>> A list is also <<Mutable>> i.e. it allows alterations and manipulations.for eg:\n",
    "my_bag.append(\"Tiger\") \n"
   ]
  },
  {
   "cell_type": "code",
   "execution_count": 11,
   "id": "f6cf26fd-5fed-4d14-909c-a8ff88ae375e",
   "metadata": {},
   "outputs": [
    {
     "data": {
      "text/plain": [
       "['Aniket', 3, 4.5, (3+5j), 'Tiger']"
      ]
     },
     "execution_count": 11,
     "metadata": {},
     "output_type": "execute_result"
    }
   ],
   "source": [
    "my_bag"
   ]
  },
  {
   "cell_type": "code",
   "execution_count": 12,
   "id": "2c0514de-891c-4bf3-b5ef-f6142edb7809",
   "metadata": {},
   "outputs": [],
   "source": [
    "my_bag.remove(\"Aniket\") # we can also use \".pop(index)\" and remove an element of very specific index."
   ]
  },
  {
   "cell_type": "code",
   "execution_count": 13,
   "id": "15edb6e5-486c-405e-bb9c-d0c5aedf1d27",
   "metadata": {},
   "outputs": [
    {
     "data": {
      "text/plain": [
       "[3, 4.5, (3+5j), 'Tiger']"
      ]
     },
     "execution_count": 13,
     "metadata": {},
     "output_type": "execute_result"
    }
   ],
   "source": [
    "my_bag"
   ]
  },
  {
   "cell_type": "code",
   "execution_count": 14,
   "id": "18029dca-5105-47fa-bd00-693be7ad1971",
   "metadata": {},
   "outputs": [],
   "source": [
    "# >>> We can enter elements in the list at desired positions. for eg:\n",
    "my_bag.insert(2,\"Elephant\") # It is important to remember that indexing in a list also starts from 0.Here the desired point is '2'"
   ]
  },
  {
   "cell_type": "code",
   "execution_count": 15,
   "id": "dc56b800-d232-4a17-b6c8-74bbf10e796a",
   "metadata": {},
   "outputs": [
    {
     "data": {
      "text/plain": [
       "[3, 4.5, 'Elephant', (3+5j), 'Tiger']"
      ]
     },
     "execution_count": 15,
     "metadata": {},
     "output_type": "execute_result"
    }
   ],
   "source": [
    "my_bag # We can also use my_bag[2]=\"Elephant\"...and get the same result"
   ]
  },
  {
   "cell_type": "code",
   "execution_count": 18,
   "id": "c46ef42b-79cc-47d9-abc4-cc1b6c49adb1",
   "metadata": {},
   "outputs": [],
   "source": [
    "#>>> A list is extendable.for eg:\n",
    "my_movies=[\"Dilwale\",\"Sholay\",\"Singham\",\"Mother India\"]\n",
    "my_brother_movies=[\"Krrish\",\"Golmaal\",\"3 idiots\"]\n",
    "my_movies.extend(my_brother_movies)"
   ]
  },
  {
   "cell_type": "code",
   "execution_count": 19,
   "id": "b7c48d43-a2f8-4684-911d-3953f9a2cf5a",
   "metadata": {},
   "outputs": [
    {
     "data": {
      "text/plain": [
       "['Dilwale',\n",
       " 'Sholay',\n",
       " 'Singham',\n",
       " 'Mother India',\n",
       " 'Krrish',\n",
       " 'Golmaal',\n",
       " '3 idiots']"
      ]
     },
     "execution_count": 19,
     "metadata": {},
     "output_type": "execute_result"
    }
   ],
   "source": [
    "my_movies"
   ]
  },
  {
   "cell_type": "code",
   "execution_count": 20,
   "id": "3ec202f6-bcd9-4274-a776-3efc089d6260",
   "metadata": {},
   "outputs": [
    {
     "data": {
      "text/plain": [
       "['3 idiots',\n",
       " 'Dilwale',\n",
       " 'Golmaal',\n",
       " 'Krrish',\n",
       " 'Mother India',\n",
       " 'Sholay',\n",
       " 'Singham']"
      ]
     },
     "execution_count": 20,
     "metadata": {},
     "output_type": "execute_result"
    }
   ],
   "source": [
    "#>>> A list can also be sorted. Sorting in a list is done in alphabetical order. for eg:\n",
    "sorted(my_movies)"
   ]
  },
  {
   "cell_type": "code",
   "execution_count": 23,
   "id": "22ab17e4-5a94-48a8-957d-bf0691f2842a",
   "metadata": {},
   "outputs": [
    {
     "data": {
      "text/plain": [
       "[4.5, 'Elephant']"
      ]
     },
     "execution_count": 23,
     "metadata": {},
     "output_type": "execute_result"
    }
   ],
   "source": [
    "# >>> A list can be spliced:\n",
    "my_bag[1:3]"
   ]
  },
  {
   "cell_type": "code",
   "execution_count": 24,
   "id": "3b2b03fe-20a5-41eb-81e1-6edd10308942",
   "metadata": {},
   "outputs": [
    {
     "data": {
      "text/plain": [
       "(3+5j)"
      ]
     },
     "execution_count": 24,
     "metadata": {},
     "output_type": "execute_result"
    }
   ],
   "source": [
    "\n",
    "#Q3.     Describe how to access, modify, and delete elements in a list with examples.\n",
    "\n",
    "\n",
    "#>>> For accessing elements of a list we can use indexing.\n",
    "my_bag[3]"
   ]
  },
  {
   "cell_type": "code",
   "execution_count": 40,
   "id": "8d1ea46a-c02e-4434-bc90-b91737ed4c02",
   "metadata": {},
   "outputs": [],
   "source": [
    "#>> For modifying a list we can add, remove, slice,replace elements from the list.\n",
    "\n",
    "my_friends=[\"Arun\",\"Tarun\",\"Abhinash\",\"Shivesh\"]\n",
    "#adding\n",
    "my_friends.append(\"Vijay\")"
   ]
  },
  {
   "cell_type": "code",
   "execution_count": 41,
   "id": "171b9d48-94ae-4cc7-9d75-8ec70263c7a4",
   "metadata": {},
   "outputs": [
    {
     "data": {
      "text/plain": [
       "['Arun', 'Tarun', 'Abhinash', 'Shivesh', 'Vijay']"
      ]
     },
     "execution_count": 41,
     "metadata": {},
     "output_type": "execute_result"
    }
   ],
   "source": [
    "my_friends"
   ]
  },
  {
   "cell_type": "code",
   "execution_count": 42,
   "id": "8e741aa5-a381-4c4b-b3eb-d031a4d0ecfd",
   "metadata": {},
   "outputs": [
    {
     "data": {
      "text/plain": [
       "['Arun', 'Tarun', 'Abhinash', 'Shivesh', 'Vijay']"
      ]
     },
     "execution_count": 42,
     "metadata": {},
     "output_type": "execute_result"
    }
   ],
   "source": [
    "my_friends"
   ]
  },
  {
   "cell_type": "code",
   "execution_count": 27,
   "id": "1ce821d1-1cbf-4432-8b7c-466542c8d209",
   "metadata": {},
   "outputs": [],
   "source": [
    "#replacing one element:\n",
    "my_friends[3]=\"Kamala\""
   ]
  },
  {
   "cell_type": "code",
   "execution_count": 43,
   "id": "2554cbe1-d1f1-4e4e-b67f-14224539c0b1",
   "metadata": {},
   "outputs": [
    {
     "data": {
      "text/plain": [
       "['Arun', 'Tarun', 'Abhinash', 'Shivesh', 'Vijay']"
      ]
     },
     "execution_count": 43,
     "metadata": {},
     "output_type": "execute_result"
    }
   ],
   "source": [
    "my_friends"
   ]
  },
  {
   "cell_type": "code",
   "execution_count": 30,
   "id": "e3287f07-d1db-4ba0-aca5-dc6f08e78c62",
   "metadata": {},
   "outputs": [],
   "source": [
    "#inserting at very specific position:-\n",
    "my_friends.insert(1,\"Shivesh\")"
   ]
  },
  {
   "cell_type": "code",
   "execution_count": 44,
   "id": "aa51dd95-3189-45da-85fb-0e3a06ca00e1",
   "metadata": {},
   "outputs": [
    {
     "data": {
      "text/plain": [
       "['Arun', 'Tarun', 'Abhinash', 'Shivesh', 'Vijay']"
      ]
     },
     "execution_count": 44,
     "metadata": {},
     "output_type": "execute_result"
    }
   ],
   "source": [
    "my_friends"
   ]
  },
  {
   "cell_type": "code",
   "execution_count": 32,
   "id": "3f81fc67-8ee2-4a9d-9e03-4584df5b76da",
   "metadata": {},
   "outputs": [],
   "source": [
    "#>>> A list is extendable.for eg:\n",
    "my_veggies=[\"Potato\",\"Tomato\",\"Brinjal\"]\n",
    "my_brother_veggies=[\"Cabbage\",\"Pumpkin\",\"Carrot\"]\n",
    "my_veggies.extend(my_brother_veggies)"
   ]
  },
  {
   "cell_type": "code",
   "execution_count": 33,
   "id": "7c64ee02-0769-433c-85b6-cfce8ed038fc",
   "metadata": {},
   "outputs": [
    {
     "data": {
      "text/plain": [
       "['Potato', 'Tomato', 'Brinjal', 'Cabbage', 'Pumpkin', 'Carrot']"
      ]
     },
     "execution_count": 33,
     "metadata": {},
     "output_type": "execute_result"
    }
   ],
   "source": [
    "my_veggies"
   ]
  },
  {
   "cell_type": "code",
   "execution_count": 45,
   "id": "d6bec947-1074-41d9-96d3-e0f8af0804ec",
   "metadata": {},
   "outputs": [],
   "source": [
    "# >>> For deleting elements of a list we can use .pop(),.remove(),del,clear\n",
    "# for reoving elements: \n",
    "my_friends.remove(\"Vijay\")"
   ]
  },
  {
   "cell_type": "code",
   "execution_count": 46,
   "id": "a8af0805-f82e-4bd1-a3cf-43884a7812e6",
   "metadata": {},
   "outputs": [
    {
     "data": {
      "text/plain": [
       "['Arun', 'Tarun', 'Abhinash', 'Shivesh']"
      ]
     },
     "execution_count": 46,
     "metadata": {},
     "output_type": "execute_result"
    }
   ],
   "source": [
    "my_friends"
   ]
  },
  {
   "cell_type": "code",
   "execution_count": 48,
   "id": "bcef70a4-b397-4744-af57-30029795485b",
   "metadata": {},
   "outputs": [
    {
     "data": {
      "text/plain": [
       "'Abhinash'"
      ]
     },
     "execution_count": 48,
     "metadata": {},
     "output_type": "execute_result"
    }
   ],
   "source": [
    "#for removing very specific index element we use .pop()\n",
    "my_friends.pop(2)"
   ]
  },
  {
   "cell_type": "code",
   "execution_count": 49,
   "id": "4e85a15c-8255-4ba3-b6a4-ebe5ebe3976a",
   "metadata": {},
   "outputs": [
    {
     "data": {
      "text/plain": [
       "['Arun', 'Tarun', 'Shivesh']"
      ]
     },
     "execution_count": 49,
     "metadata": {},
     "output_type": "execute_result"
    }
   ],
   "source": [
    "my_friends"
   ]
  },
  {
   "cell_type": "code",
   "execution_count": 50,
   "id": "ed07e823-7683-4cf4-9383-f22de1e190d9",
   "metadata": {},
   "outputs": [],
   "source": [
    "# for clearing all elements of a list we use:\n",
    "my_friends.clear()"
   ]
  },
  {
   "cell_type": "code",
   "execution_count": 51,
   "id": "d5c1473c-0be5-4d63-98fe-f21f9951077c",
   "metadata": {},
   "outputs": [
    {
     "data": {
      "text/plain": [
       "[]"
      ]
     },
     "execution_count": 51,
     "metadata": {},
     "output_type": "execute_result"
    }
   ],
   "source": [
    "my_friends"
   ]
  },
  {
   "cell_type": "code",
   "execution_count": 53,
   "id": "361e3afa-42c4-4fb5-a58d-d4948c2fc655",
   "metadata": {},
   "outputs": [],
   "source": [
    "# for deleting the entire list we use 'del' command after which referring to that list previously existing will show an error."
   ]
  },
  {
   "cell_type": "code",
   "execution_count": 2,
   "id": "9d15f295-8dc8-455e-9d26-4d425ea47911",
   "metadata": {},
   "outputs": [],
   "source": [
    "\n",
    "#Q4.      Compare and contrast tuples and lists with examples.\n",
    "\n",
    "# Differences :-\n",
    "#     1. Lists are mutable i.e. they can be modified as per need-->lengthened,shotened,capitalized,added,removed,replaced,etc.\n",
    "#        while tuples aren't this flexible in permitting such actions on them i.e. they are immutable.\n",
    "#     2. Tuples use parentheses'()' whereas lists use square brackets '[]'\n",
    "my_list=[\"bottle\",\"pen\",\"table\",1,3.4]\n",
    "my_list.append(\"chair\")"
   ]
  },
  {
   "cell_type": "code",
   "execution_count": 3,
   "id": "dd9121ba-18aa-4f3a-9428-dd7f360e5a64",
   "metadata": {},
   "outputs": [
    {
     "data": {
      "text/plain": [
       "['bottle', 'pen', 'table', 1, 3.4, 'chair']"
      ]
     },
     "execution_count": 3,
     "metadata": {},
     "output_type": "execute_result"
    }
   ],
   "source": [
    "my_list"
   ]
  },
  {
   "cell_type": "code",
   "execution_count": 5,
   "id": "f03ac292-43e7-4f2e-8ac5-fc912b9704d0",
   "metadata": {},
   "outputs": [
    {
     "ename": "AttributeError",
     "evalue": "'tuple' object has no attribute 'add'",
     "output_type": "error",
     "traceback": [
      "\u001b[1;31m---------------------------------------------------------------------------\u001b[0m",
      "\u001b[1;31mAttributeError\u001b[0m                            Traceback (most recent call last)",
      "Cell \u001b[1;32mIn[5], line 2\u001b[0m\n\u001b[0;32m      1\u001b[0m my_tuple\u001b[38;5;241m=\u001b[39m(\u001b[38;5;124m\"\u001b[39m\u001b[38;5;124mbuilding\u001b[39m\u001b[38;5;124m\"\u001b[39m,\u001b[38;5;124m\"\u001b[39m\u001b[38;5;124mpeople\u001b[39m\u001b[38;5;124m\"\u001b[39m,\u001b[38;5;124m\"\u001b[39m\u001b[38;5;124mhandle\u001b[39m\u001b[38;5;124m\"\u001b[39m, \u001b[38;5;241m4\u001b[39m, \u001b[38;5;241m5\u001b[39m)\n\u001b[1;32m----> 2\u001b[0m \u001b[43mmy_tuple\u001b[49m\u001b[38;5;241;43m.\u001b[39;49m\u001b[43madd\u001b[49m(\u001b[38;5;124m\"\u001b[39m\u001b[38;5;124madd\u001b[39m\u001b[38;5;124m\"\u001b[39m)\n",
      "\u001b[1;31mAttributeError\u001b[0m: 'tuple' object has no attribute 'add'"
     ]
    }
   ],
   "source": [
    "my_tuple=(\"building\",\"people\",\"handle\", 4, 5)\n",
    "my_tuple.add(\"add\")"
   ]
  },
  {
   "cell_type": "code",
   "execution_count": 6,
   "id": "4d8daf58-bba7-412e-bea9-fd6eb1392d69",
   "metadata": {},
   "outputs": [],
   "source": [
    "my_list.remove(\"table\")"
   ]
  },
  {
   "cell_type": "code",
   "execution_count": 7,
   "id": "42455791-e9c5-4c5f-98f6-ff78f6b2cdda",
   "metadata": {},
   "outputs": [
    {
     "data": {
      "text/plain": [
       "['bottle', 'pen', 1, 3.4, 'chair']"
      ]
     },
     "execution_count": 7,
     "metadata": {},
     "output_type": "execute_result"
    }
   ],
   "source": [
    "my_list"
   ]
  },
  {
   "cell_type": "code",
   "execution_count": 8,
   "id": "258d38c4-78a1-4200-a52b-77778282588c",
   "metadata": {},
   "outputs": [
    {
     "ename": "AttributeError",
     "evalue": "'tuple' object has no attribute 'remove'",
     "output_type": "error",
     "traceback": [
      "\u001b[1;31m---------------------------------------------------------------------------\u001b[0m",
      "\u001b[1;31mAttributeError\u001b[0m                            Traceback (most recent call last)",
      "Cell \u001b[1;32mIn[8], line 1\u001b[0m\n\u001b[1;32m----> 1\u001b[0m \u001b[43mmy_tuple\u001b[49m\u001b[38;5;241;43m.\u001b[39;49m\u001b[43mremove\u001b[49m(\u001b[38;5;124m\"\u001b[39m\u001b[38;5;124mpeople\u001b[39m\u001b[38;5;124m\"\u001b[39m)\n",
      "\u001b[1;31mAttributeError\u001b[0m: 'tuple' object has no attribute 'remove'"
     ]
    }
   ],
   "source": [
    "my_tuple.remove(\"people\")"
   ]
  },
  {
   "cell_type": "code",
   "execution_count": 13,
   "id": "9a1b4ce0-df58-4f3c-af69-dc13df8a279d",
   "metadata": {},
   "outputs": [
    {
     "data": {
      "text/plain": [
       "'Horse'"
      ]
     },
     "execution_count": 13,
     "metadata": {},
     "output_type": "execute_result"
    }
   ],
   "source": [
    "#        Similarities:-\n",
    "#            a. Lists and tuples, both can be called out through indexing\n",
    "#            b. Both lists and tuples are capable of containing  values of multiple datatypes.\n",
    "my_help=[\"Lion\",\"Horse\",1 ,2 ,3.5, True, 3+5j]\n",
    "hello_tuple=(\"tiger\",\"octopus\", 5, 6 ,7 ,8.8 , False, 8+6j)\n",
    "my_help[1]"
   ]
  },
  {
   "cell_type": "code",
   "execution_count": 14,
   "id": "6c9e9bec-18bf-4b99-a5ee-9f0963b8a05f",
   "metadata": {},
   "outputs": [
    {
     "data": {
      "text/plain": [
       "'octopus'"
      ]
     },
     "execution_count": 14,
     "metadata": {},
     "output_type": "execute_result"
    }
   ],
   "source": [
    "hello_tuple[1]"
   ]
  },
  {
   "cell_type": "code",
   "execution_count": 15,
   "id": "d1ec397e-5741-46fa-ae78-6df976e86da4",
   "metadata": {},
   "outputs": [],
   "source": [
    "# INSIGHTS>>>> 1. I understand that tuples are used somewhere where the storing of data comes with ensuring that the data stored\n",
    "#                 is not accidentally lost or manipulated by mistake, since tuples are not mutable and so no changes can be made.\n",
    "#                 for eg. important details of the employees working in a company or important details of account holders in bank.\n",
    "\n",
    "#              2. Lists are more suitable to be used for dynamic data---> the sort of data where values are added,removed and\n",
    "#                 updated from time to time, for eg. weather forecasts,stock prices, etc."
   ]
  },
  {
   "cell_type": "code",
   "execution_count": 17,
   "id": "ea53534c-a17a-40ee-830d-c9546eb015e8",
   "metadata": {},
   "outputs": [
    {
     "data": {
      "text/plain": [
       "{(4+5j), 3, 4, 5.5, 'Books', 'Bucket', True, 'word'}"
      ]
     },
     "execution_count": 17,
     "metadata": {},
     "output_type": "execute_result"
    }
   ],
   "source": [
    "\n",
    "# Q3.      Describe the key features of sets and provide examples of their use.\n",
    "\n",
    "# Key features of sets include:\n",
    "#          a. Sets are heterogenous in nature, meaning they can contain elements from different datatypes,except some mutable\n",
    "#            elements.\n",
    "#          b. Sets don't maintain any order i.e. when we store data in a set, it doesn't appear in some particular format.\n",
    "\n",
    "s={\"Books\",\"Bucket\",3 ,4 ,5.5 ,4+5j ,True, \"word\"}\n",
    "s"
   ]
  },
  {
   "cell_type": "code",
   "execution_count": 3,
   "id": "b2930f89-e433-441e-84fc-c03b4bf70301",
   "metadata": {},
   "outputs": [
    {
     "data": {
      "text/plain": [
       "set"
      ]
     },
     "execution_count": 3,
     "metadata": {},
     "output_type": "execute_result"
    }
   ],
   "source": [
    "type(s)"
   ]
  },
  {
   "cell_type": "code",
   "execution_count": 16,
   "id": "a4ee3fb0-fbed-461f-9ceb-c98b50f64a4d",
   "metadata": {},
   "outputs": [],
   "source": [
    "#          c. Sets are mutable; it is easy to add and remove elements from a set.\n",
    "#          d. Sets are unordered arrangement of elements, so accessing them on the basis of indexing is not possible.\n",
    "s.add(\"Chair\")"
   ]
  },
  {
   "cell_type": "code",
   "execution_count": 18,
   "id": "3a4c25de-ea34-47de-86b8-5aa378e762ea",
   "metadata": {},
   "outputs": [
    {
     "data": {
      "text/plain": [
       "{(4+5j), 3, 4, 5.5, 'Books', 'Bucket', True, 'word'}"
      ]
     },
     "execution_count": 18,
     "metadata": {},
     "output_type": "execute_result"
    }
   ],
   "source": [
    "s"
   ]
  },
  {
   "cell_type": "code",
   "execution_count": 19,
   "id": "8314cf8e-5a2d-45a7-9c5d-2b35fa940e98",
   "metadata": {},
   "outputs": [],
   "source": [
    "s.remove(\"word\")"
   ]
  },
  {
   "cell_type": "code",
   "execution_count": 20,
   "id": "06d15bd9-bafb-4509-b232-a762e2bea8df",
   "metadata": {},
   "outputs": [
    {
     "data": {
      "text/plain": [
       "{(4+5j), 3, 4, 5.5, 'Books', 'Bucket', True}"
      ]
     },
     "execution_count": 20,
     "metadata": {},
     "output_type": "execute_result"
    }
   ],
   "source": [
    "s"
   ]
  },
  {
   "cell_type": "code",
   "execution_count": 9,
   "id": "47a95f4b-63a9-47d7-b3f1-dc3d03d74031",
   "metadata": {},
   "outputs": [
    {
     "ename": "TypeError",
     "evalue": "'set' object is not callable",
     "output_type": "error",
     "traceback": [
      "\u001b[1;31m---------------------------------------------------------------------------\u001b[0m",
      "\u001b[1;31mTypeError\u001b[0m                                 Traceback (most recent call last)",
      "Cell \u001b[1;32mIn[9], line 1\u001b[0m\n\u001b[1;32m----> 1\u001b[0m \u001b[43ms\u001b[49m\u001b[43m(\u001b[49m\u001b[38;5;241;43m1\u001b[39;49m\u001b[43m)\u001b[49m\n",
      "\u001b[1;31mTypeError\u001b[0m: 'set' object is not callable"
     ]
    }
   ],
   "source": [
    "s(1)  #not accessible by indexing!"
   ]
  },
  {
   "cell_type": "code",
   "execution_count": 10,
   "id": "f03916de-28b7-4dbf-b687-a3d741100f59",
   "metadata": {},
   "outputs": [
    {
     "data": {
      "text/plain": [
       "{1, 2, 3, 4, 5, 6}"
      ]
     },
     "execution_count": 10,
     "metadata": {},
     "output_type": "execute_result"
    }
   ],
   "source": [
    "#          e. Sets don't entertain duplicacy i.e. any duplicate element that has been entered in a set will easily be recognised\n",
    "#            by the set and then removed.\n",
    "\n",
    "f={1,2,3,4,5,5,6,2,3}\n",
    "f"
   ]
  },
  {
   "cell_type": "code",
   "execution_count": 11,
   "id": "dbf5c222-5bb7-4d67-9311-d7bc6d532e68",
   "metadata": {},
   "outputs": [
    {
     "data": {
      "text/plain": [
       "{(4+5j), 2, 3, 4, 5, 5.5, 6, 'Books', 'Bucket', 'Chair', True}"
      ]
     },
     "execution_count": 11,
     "metadata": {},
     "output_type": "execute_result"
    }
   ],
   "source": [
    "#          f. Mathematical operations like intersection,union, difference and symmetric difference can be executed on set with\n",
    "#            ease.\n",
    "\n",
    "s|f"
   ]
  },
  {
   "cell_type": "code",
   "execution_count": 12,
   "id": "bf47ac67-6772-463a-8ba7-ad1c57376b4c",
   "metadata": {},
   "outputs": [
    {
     "data": {
      "text/plain": [
       "{1, 3, 4}"
      ]
     },
     "execution_count": 12,
     "metadata": {},
     "output_type": "execute_result"
    }
   ],
   "source": [
    "s&f"
   ]
  },
  {
   "cell_type": "code",
   "execution_count": 13,
   "id": "2e2140cd-c8de-43d3-a9c4-b021d9a2b439",
   "metadata": {},
   "outputs": [
    {
     "data": {
      "text/plain": [
       "{(4+5j), 5.5, 'Books', 'Bucket', 'Chair'}"
      ]
     },
     "execution_count": 13,
     "metadata": {},
     "output_type": "execute_result"
    }
   ],
   "source": [
    "s-f"
   ]
  },
  {
   "cell_type": "code",
   "execution_count": 14,
   "id": "6a155899-f03e-4de9-b2cf-001aa9854b94",
   "metadata": {},
   "outputs": [
    {
     "data": {
      "text/plain": [
       "{(4+5j), 2, 5, 5.5, 6, 'Books', 'Bucket', 'Chair'}"
      ]
     },
     "execution_count": 14,
     "metadata": {},
     "output_type": "execute_result"
    }
   ],
   "source": [
    "s^f"
   ]
  },
  {
   "cell_type": "code",
   "execution_count": 21,
   "id": "3e598571-643b-4095-974a-29e8e65f42d8",
   "metadata": {},
   "outputs": [],
   "source": [
    "# INSIGHTS>>>>  1. It is very clear that sets should be used where there is a fear of duplicacy, because sets don't leave any\n",
    "#                 room for duplicacy, and hence no element can repeat itself or be entered more than once.\n",
    "#               2. Due to the flexibility of sets to allow operations like union,difference,intersection,etc. it is very easy \n",
    "#                 to use sets for tasks that need frequent merging of sets of information without duplicacy."
   ]
  },
  {
   "cell_type": "code",
   "execution_count": 25,
   "id": "575e2f7f-ffbb-409f-ab4a-4a40c8edf90f",
   "metadata": {},
   "outputs": [
    {
     "ename": "AttributeError",
     "evalue": "'tuple' object has no attribute 'remove'",
     "output_type": "error",
     "traceback": [
      "\u001b[1;31m---------------------------------------------------------------------------\u001b[0m",
      "\u001b[1;31mAttributeError\u001b[0m                            Traceback (most recent call last)",
      "Cell \u001b[1;32mIn[25], line 11\u001b[0m\n\u001b[0;32m      1\u001b[0m \u001b[38;5;66;03m# Q6.  Discuss the use cases of tuples and sets in Python programming.\u001b[39;00m\n\u001b[0;32m      2\u001b[0m \n\u001b[0;32m      3\u001b[0m \u001b[38;5;66;03m# Use cases of tuples:\u001b[39;00m\n\u001b[1;32m   (...)\u001b[0m\n\u001b[0;32m      7\u001b[0m \u001b[38;5;66;03m#                        are allowed after finalisation of creating a tuple.\u001b[39;00m\n\u001b[0;32m      8\u001b[0m \u001b[38;5;66;03m#                     3. Tuples are fast and take up small space due to its fixed size(non-expandable,non-reductible).\u001b[39;00m\n\u001b[0;32m     10\u001b[0m tupl\u001b[38;5;241m=\u001b[39m(\u001b[38;5;124m\"\u001b[39m\u001b[38;5;124mpi:3.14\u001b[39m\u001b[38;5;124m\"\u001b[39m,\u001b[38;5;124m\"\u001b[39m\u001b[38;5;124mgravitational constant:9.1\u001b[39m\u001b[38;5;124m\"\u001b[39m,\u001b[38;5;124m\"\u001b[39m\u001b[38;5;124mRamesh phn no: 9976597890\u001b[39m\u001b[38;5;124m\"\u001b[39m)\n\u001b[1;32m---> 11\u001b[0m \u001b[43mtupl\u001b[49m\u001b[38;5;241;43m.\u001b[39;49m\u001b[43mremove\u001b[49m(\u001b[38;5;124m\"\u001b[39m\u001b[38;5;124mRamesh phn no: 9976597890\u001b[39m\u001b[38;5;124m\"\u001b[39m)\n",
      "\u001b[1;31mAttributeError\u001b[0m: 'tuple' object has no attribute 'remove'"
     ]
    }
   ],
   "source": [
    "\n",
    "# Q6.  Discuss the use cases of tuples and sets in Python programming.\n",
    "\n",
    "# Use cases of tuples:\n",
    "#                     1. Constant data that need not be changed in future are stored in tuples for example: holidays,http codes,\n",
    "#                       currency symbols of different nations,mathematical constants,etc.\n",
    "#                     2. Tuples are generally used to keep the security and integrity of information intact.Because no changes\n",
    "#                        are allowed after finalisation of creating a tuple.\n",
    "#                     3. Tuples are fast and take up small space due to its fixed size(non-expandable,non-reductible).\n",
    "\n",
    "tupl=(\"pi:3.14\",\"gravitational constant:9.1\",\"Ramesh phn no: 9976597890\")\n",
    "tupl.remove(\"Ramesh phn no: 9976597890\")"
   ]
  },
  {
   "cell_type": "code",
   "execution_count": 27,
   "id": "bcb6723d-f08a-48a4-a209-efe0ded250a7",
   "metadata": {},
   "outputs": [
    {
     "data": {
      "text/plain": [
       "{'Harsh', 'Kamala', 'Suresh', 'Vimal', 'Vinay'}"
      ]
     },
     "execution_count": 27,
     "metadata": {},
     "output_type": "execute_result"
    }
   ],
   "source": [
    "# Use cases of sets:\n",
    "#                     1. To keep the uniqueness of data intact, sets are used. Sets remove all sorts of duplicates by identifying\n",
    "#                       similar elements in a particular set. While cleaning data and processing them, there is a huge chance of \n",
    "#                       data repeating themselves.Sets prevent such happening and prevent duplicates from existing.\n",
    "#                     2. Operations like union,intersection,difference, and symmetric difference help us merge us separate data\n",
    "#                       -collection without duplicates.For eg: combining list of customers in a mall over the span of a week,\n",
    "#                        identifying unique visitors on a website, finding common friends between two social media users,etc.\n",
    "\n",
    "new_sign_ins_day_1={\"Suresh\",\"Vimal\",\"Harsh\",\"Kamala\",\"Harsh\",\"Kamala\",\"Suresh\",\"Vinay\"}\n",
    "new_sign_ins_day_1"
   ]
  },
  {
   "cell_type": "code",
   "execution_count": 31,
   "id": "257bb30e-aa08-4cca-8e42-5d3fc6f30285",
   "metadata": {},
   "outputs": [],
   "source": [
    "new_sign_ins_day_2={\"Rohan\",\"Karan\",\"Kamala\",\"Shruti\",\"Vinay\",\"Harsh\"}\n",
    "new_sign_ins_day_3={\"Vinay\",\"Naina\",\"Arjun\",\"Suresh\",\"Harsh\"}"
   ]
  },
  {
   "cell_type": "code",
   "execution_count": 30,
   "id": "ed72a94a-b477-4edc-8b21-f53130ffdad8",
   "metadata": {},
   "outputs": [
    {
     "data": {
      "text/plain": [
       "{'Aisha',\n",
       " 'Arjun',\n",
       " 'Harsh',\n",
       " 'Kamala',\n",
       " 'Karan',\n",
       " 'Naina',\n",
       " 'Rohan',\n",
       " 'Shruti',\n",
       " 'Suresh',\n",
       " 'Vimal',\n",
       " 'Vinay',\n",
       " 'Vivek'}"
      ]
     },
     "execution_count": 30,
     "metadata": {},
     "output_type": "execute_result"
    }
   ],
   "source": [
    "new_sign_ins_day_1 | new_sign_ins_day_2 | new_sign_ins_day_3"
   ]
  },
  {
   "cell_type": "code",
   "execution_count": 32,
   "id": "e207644e-5314-4dd0-863c-0ea54db68206",
   "metadata": {},
   "outputs": [
    {
     "data": {
      "text/plain": [
       "{'Harsh', 'Vinay'}"
      ]
     },
     "execution_count": 32,
     "metadata": {},
     "output_type": "execute_result"
    }
   ],
   "source": [
    "new_sign_ins_day_1 & new_sign_ins_day_2 & new_sign_ins_day_3"
   ]
  },
  {
   "cell_type": "code",
   "execution_count": 34,
   "id": "769e0cab-677b-402c-9505-a9a753522a6a",
   "metadata": {},
   "outputs": [],
   "source": [
    "\n",
    "# Q7.    Describe how to add, modify, and delete items in a dictionary with examples.\n",
    "\n",
    "# >>Adding elements:-\n",
    "student={}"
   ]
  },
  {
   "cell_type": "code",
   "execution_count": 37,
   "id": "61364ad3-78b8-4930-aa1c-ff39698537ad",
   "metadata": {},
   "outputs": [],
   "source": [
    "# using assignment operator(=) :-\n",
    "student[\"name\"]=\"John\"\n",
    "student[\"age\"]= 19\n",
    "student[\"Grade\"]= \"A\""
   ]
  },
  {
   "cell_type": "code",
   "execution_count": 38,
   "id": "fea5ac6a-94a7-4f7e-a9fa-24c49eb27410",
   "metadata": {},
   "outputs": [
    {
     "data": {
      "text/plain": [
       "{'name': 'John', 'age': 19, 'Grade': 'A'}"
      ]
     },
     "execution_count": 38,
     "metadata": {},
     "output_type": "execute_result"
    }
   ],
   "source": [
    "student"
   ]
  },
  {
   "cell_type": "code",
   "execution_count": 44,
   "id": "c4c17ff2-b814-4642-84ee-035d970128d8",
   "metadata": {},
   "outputs": [],
   "source": [
    "#using .update() :-\n",
    "student.update({\"Major\":\"Computer Science\"}) "
   ]
  },
  {
   "cell_type": "code",
   "execution_count": 45,
   "id": "0f3e03b1-aa7a-401c-a995-7e1f40c0b904",
   "metadata": {},
   "outputs": [
    {
     "data": {
      "text/plain": [
       "{'name': 'John', 'age': 19, 'Grade': 'A', 'Major': 'Computer Science'}"
      ]
     },
     "execution_count": 45,
     "metadata": {},
     "output_type": "execute_result"
    }
   ],
   "source": [
    "student"
   ]
  },
  {
   "cell_type": "code",
   "execution_count": 46,
   "id": "2f09ff8d-bb7b-43cf-90d6-ea1a45ed259c",
   "metadata": {},
   "outputs": [],
   "source": [
    "#>> Modifying elements\n",
    "\n",
    "#using assignment operator(=) :-\n",
    "student[\"age\"]= 21 "
   ]
  },
  {
   "cell_type": "code",
   "execution_count": 47,
   "id": "43328eec-9fd5-4c71-8c61-97a6b0c10137",
   "metadata": {},
   "outputs": [
    {
     "data": {
      "text/plain": [
       "{'name': 'John', 'age': 21, 'Grade': 'A', 'Major': 'Computer Science'}"
      ]
     },
     "execution_count": 47,
     "metadata": {},
     "output_type": "execute_result"
    }
   ],
   "source": [
    "student"
   ]
  },
  {
   "cell_type": "code",
   "execution_count": 48,
   "id": "65e7bb81-ce2f-4092-9f23-6947d2cc67ac",
   "metadata": {},
   "outputs": [],
   "source": [
    "#using .update():-\n",
    "student.update({\"Grade\":\"A+\"})"
   ]
  },
  {
   "cell_type": "code",
   "execution_count": 49,
   "id": "0624830a-ab65-4460-b43d-b17b4468f079",
   "metadata": {},
   "outputs": [
    {
     "data": {
      "text/plain": [
       "{'name': 'John', 'age': 21, 'Grade': 'A+', 'Major': 'Computer Science'}"
      ]
     },
     "execution_count": 49,
     "metadata": {},
     "output_type": "execute_result"
    }
   ],
   "source": [
    "student"
   ]
  },
  {
   "cell_type": "code",
   "execution_count": 50,
   "id": "2c572946-a601-4338-ba62-0621c31fdd98",
   "metadata": {},
   "outputs": [],
   "source": [
    "#Deleting elements:-\n",
    "   # Using del statement:-\n",
    "Aniket={\"Age\":21,\"Height\":6,\"Semester\":\"1st\",\"Grade\":\"A+\",\"Speaks\":\"English\"}\n",
    "del Aniket[\"Height\"]"
   ]
  },
  {
   "cell_type": "code",
   "execution_count": 51,
   "id": "b1903c46-116b-4d90-8a50-9d9a958edf10",
   "metadata": {},
   "outputs": [
    {
     "data": {
      "text/plain": [
       "{'Age': 21, 'Semester': '1st', 'Grade': 'A+', 'Speaks': 'English'}"
      ]
     },
     "execution_count": 51,
     "metadata": {},
     "output_type": "execute_result"
    }
   ],
   "source": [
    "Aniket"
   ]
  },
  {
   "cell_type": "code",
   "execution_count": 52,
   "id": "90e02735-44c0-4afe-a3e4-2de5defd0314",
   "metadata": {},
   "outputs": [
    {
     "data": {
      "text/plain": [
       "'A+'"
      ]
     },
     "execution_count": 52,
     "metadata": {},
     "output_type": "execute_result"
    }
   ],
   "source": [
    "   # Using .pop():-\n",
    "Aniket.pop(\"Grade\")"
   ]
  },
  {
   "cell_type": "code",
   "execution_count": 53,
   "id": "a2bd2eae-bcf8-451c-ac45-38fefa77afe6",
   "metadata": {},
   "outputs": [
    {
     "data": {
      "text/plain": [
       "{'Age': 21, 'Semester': '1st', 'Speaks': 'English'}"
      ]
     },
     "execution_count": 53,
     "metadata": {},
     "output_type": "execute_result"
    }
   ],
   "source": [
    "Aniket"
   ]
  },
  {
   "cell_type": "code",
   "execution_count": 54,
   "id": "76207cf2-5a56-424d-98a3-2e28e7e6c252",
   "metadata": {},
   "outputs": [],
   "source": [
    "   # Using .clear():-\n",
    "Aniket.clear()"
   ]
  },
  {
   "cell_type": "code",
   "execution_count": 55,
   "id": "2db81c24-7c0a-4488-9a6f-8eb6b76b28c6",
   "metadata": {},
   "outputs": [
    {
     "data": {
      "text/plain": [
       "{}"
      ]
     },
     "execution_count": 55,
     "metadata": {},
     "output_type": "execute_result"
    }
   ],
   "source": [
    "Aniket"
   ]
  },
  {
   "cell_type": "code",
   "execution_count": 72,
   "id": "b132a943-e0fb-4e7c-ae7b-95b606ac561f",
   "metadata": {},
   "outputs": [],
   "source": [
    "\n",
    "# Q8.   Discuss the importance of dictionary keys being immutable and provide examples.\n",
    "\n",
    "#  1. It is important for dictionary keys to be immutable so that any chance of duplicate keys existing simultaneously is being\n",
    "#    ruled out.Immutable keys ensure that key-value pair remain unique.\n",
    "#  2. To ensure dictionaries are hashed, they need to have keys that are immutable.\n",
    "\n",
    "##  Examples of keys that immutable and which can be used in dictionaries:-\n",
    "#          1. Strings: \"Keys\",\"Hello\",\"String\",\"Boy\",etc.\n",
    "#          2. Integers: 1,2,3,4,5,etc.\n",
    "#          3. Float: 3.4,4.4, 6.5,etc.\n",
    "#          4. Tuples: (\"Vijay\",1,5,6,etc.)\n",
    "#          5. Forzensets:{[1,2,3]}\n",
    "dictt={\"hello\":\"world\", 1:\"hey\", 4.5:\"Goat\",(1,2,3,\"Amit\"): 34,frozenset([1,2,3]):36}"
   ]
  },
  {
   "cell_type": "code",
   "execution_count": 73,
   "id": "42ae5aba-b841-4be7-a887-4449facf5545",
   "metadata": {},
   "outputs": [
    {
     "data": {
      "text/plain": [
       "{'hello': 'world',\n",
       " 1: 'hey',\n",
       " 4.5: 'Goat',\n",
       " (1, 2, 3, 'Amit'): 34,\n",
       " frozenset({1, 2, 3}): 36}"
      ]
     },
     "execution_count": 73,
     "metadata": {},
     "output_type": "execute_result"
    }
   ],
   "source": [
    "dictt"
   ]
  },
  {
   "cell_type": "code",
   "execution_count": 74,
   "id": "be45ca0f-eef6-4111-b541-5daaf59dcc60",
   "metadata": {},
   "outputs": [
    {
     "ename": "TypeError",
     "evalue": "unhashable type: 'list'",
     "output_type": "error",
     "traceback": [
      "\u001b[1;31m---------------------------------------------------------------------------\u001b[0m",
      "\u001b[1;31mTypeError\u001b[0m                                 Traceback (most recent call last)",
      "Cell \u001b[1;32mIn[74], line 6\u001b[0m\n\u001b[0;32m      1\u001b[0m \u001b[38;5;66;03m## Examples of key that are mutable and can't be used as keys:-\u001b[39;00m\n\u001b[0;32m      2\u001b[0m \u001b[38;5;66;03m#          1.Lists: [1,2,3,4]\u001b[39;00m\n\u001b[0;32m      3\u001b[0m \u001b[38;5;66;03m#          2.Dictionaries: {\"Ramesh\",\"Suresh\",\"Ajay\",1,2,3}\u001b[39;00m\n\u001b[0;32m      4\u001b[0m \u001b[38;5;66;03m#          3.Sets: {4,56,7,8}\u001b[39;00m\n\u001b[1;32m----> 6\u001b[0m dicttt\u001b[38;5;241m=\u001b[39m{[\u001b[38;5;241m1\u001b[39m,\u001b[38;5;241m2\u001b[39m,\u001b[38;5;241m3\u001b[39m,\u001b[38;5;241m4\u001b[39m]: \u001b[38;5;124m\"\u001b[39m\u001b[38;5;124mSarvesh\u001b[39m\u001b[38;5;124m\"\u001b[39m}\n",
      "\u001b[1;31mTypeError\u001b[0m: unhashable type: 'list'"
     ]
    }
   ],
   "source": [
    "## Examples of key that are mutable and can't be used as keys:-\n",
    "#          1.Lists: [1,2,3,4]\n",
    "#          2.Dictionaries: {\"Ramesh\",\"Suresh\",\"Ajay\",1,2,3}\n",
    "#          3.Sets: {4,56,7,8}\n",
    "\n",
    "dicttt={[1,2,3,4]: \"Sarvesh\"}"
   ]
  },
  {
   "cell_type": "code",
   "execution_count": 75,
   "id": "ffe55bc5-8147-4f9c-9d61-f6296b2ae1f3",
   "metadata": {},
   "outputs": [
    {
     "ename": "TypeError",
     "evalue": "unhashable type: 'set'",
     "output_type": "error",
     "traceback": [
      "\u001b[1;31m---------------------------------------------------------------------------\u001b[0m",
      "\u001b[1;31mTypeError\u001b[0m                                 Traceback (most recent call last)",
      "Cell \u001b[1;32mIn[75], line 1\u001b[0m\n\u001b[1;32m----> 1\u001b[0m dicttt\u001b[38;5;241m=\u001b[39m{{\u001b[38;5;241m1\u001b[39m,\u001b[38;5;241m2\u001b[39m,\u001b[38;5;241m3\u001b[39m,\u001b[38;5;124m\"\u001b[39m\u001b[38;5;124mRamesh\u001b[39m\u001b[38;5;124m\"\u001b[39m}: \u001b[38;5;241m1\u001b[39m}\n",
      "\u001b[1;31mTypeError\u001b[0m: unhashable type: 'set'"
     ]
    }
   ],
   "source": [
    "dicttt={{1,2,3,\"Ramesh\"}: 1}"
   ]
  },
  {
   "cell_type": "code",
   "execution_count": 1,
   "id": "a1ac13f7-d747-42da-8ef0-d9c9bf911e08",
   "metadata": {},
   "outputs": [
    {
     "ename": "TypeError",
     "evalue": "unhashable type: 'dict'",
     "output_type": "error",
     "traceback": [
      "\u001b[1;31m---------------------------------------------------------------------------\u001b[0m",
      "\u001b[1;31mTypeError\u001b[0m                                 Traceback (most recent call last)",
      "Cell \u001b[1;32mIn[1], line 3\u001b[0m\n\u001b[0;32m      1\u001b[0m hello\u001b[38;5;241m=\u001b[39m{}\n\u001b[0;32m      2\u001b[0m heyy\u001b[38;5;241m=\u001b[39m{\u001b[38;5;124m\"\u001b[39m\u001b[38;5;124ma\u001b[39m\u001b[38;5;124m\"\u001b[39m:\u001b[38;5;241m1\u001b[39m,\u001b[38;5;124m\"\u001b[39m\u001b[38;5;124mb\u001b[39m\u001b[38;5;124m\"\u001b[39m:\u001b[38;5;241m2\u001b[39m}\n\u001b[1;32m----> 3\u001b[0m \u001b[43mhello\u001b[49m\u001b[43m[\u001b[49m\u001b[43mheyy\u001b[49m\u001b[43m]\u001b[49m\u001b[38;5;241m=\u001b[39m\u001b[38;5;241m2\u001b[39m\n",
      "\u001b[1;31mTypeError\u001b[0m: unhashable type: 'dict'"
     ]
    }
   ],
   "source": [
    "hello={}\n",
    "heyy={\"a\":1,\"b\":2}\n",
    "hello[heyy]=2"
   ]
  },
  {
   "cell_type": "code",
   "execution_count": null,
   "id": "b07fb015-66b2-404e-9922-aa7a85a111c9",
   "metadata": {},
   "outputs": [],
   "source": []
  }
 ],
 "metadata": {
  "kernelspec": {
   "display_name": "Python 3 (ipykernel)",
   "language": "python",
   "name": "python3"
  },
  "language_info": {
   "codemirror_mode": {
    "name": "ipython",
    "version": 3
   },
   "file_extension": ".py",
   "mimetype": "text/x-python",
   "name": "python",
   "nbconvert_exporter": "python",
   "pygments_lexer": "ipython3",
   "version": "3.12.4"
  }
 },
 "nbformat": 4,
 "nbformat_minor": 5
}
